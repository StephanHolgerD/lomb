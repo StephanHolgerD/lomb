{
 "cells": [
  {
   "cell_type": "code",
   "execution_count": 1,
   "id": "e41fbdb4",
   "metadata": {},
   "outputs": [],
   "source": [
    "import xlsxwriter\n",
    "import pandas as pd\n",
    "import string\n",
    "import numpy as np"
   ]
  },
  {
   "cell_type": "code",
   "execution_count": 2,
   "id": "c67ebac4",
   "metadata": {},
   "outputs": [],
   "source": [
    "searchstring = '''\n",
    "((Abou Jamra Rami) OR (Ahmad Natalie) OR (Ahting Simone) OR (Bachmann Joachim) OR (Baerwald Christoph) OR (Bartolomaeus Tobias) OR (Beblo Skadi) OR (Berthold Nicole) OR (Bothe Viktoria) OR (Bundalian Linnaeus) OR (Ciavattini Teresa) OR (Drukewitz Stephan) OR (Faust Helene) OR (Halfmeyer Insa) OR (Heinze Nora) OR (Hentschel Julia) OR (Herbst Charlotte) OR (Herrmann Vera-Maria) OR (Heuft Lara) OR (Jauss Robin-Tobias) OR (Jamra Rami) OR (Junge Tabea) OR (Klöckner Chiara) OR (Körner Marek) OR (Krey Ilona) OR (Krohn Knut) OR (Le Duc Gabriela-Diana) OR (Lemke Johannes) OR (Moch Johanna) OR (Müller-Nedebock Amica) OR (Neuser Sonja) OR (Oppermann Henry) OR (Pilgram Laura-Marie) OR (Platzer Konrad) OR (Popp Bernt) OR (Popp Denny) OR (Radtke Maximilian) OR (Rahimi Meer Jacob) OR (Rosenhahn Erik) OR (Rößler Franziska) OR (Roessler Franziska) OR (Schließke Sophia) OR (Schnabel Franziska) OR (Schubert Susanna) OR (Schumann Isabell) OR (Strehlow Vincent) OR (Teichmann Anne-Christin) OR (Viehweger Adrian) OR (von Wintzingerode Lydia) OR (Weber Ferdinand) OR (Wegler Meret) OR (Wiedenhoeft John) OR (Büttner Benjamin) OR (Heine Constanze) OR (Klau Julia) OR (Kutzera Joachim) OR (Lieberwirth Johann) OR (Mertens Mareike) OR (Plitzko Lydia) OR (Schmederer Zelia) OR (Zacher Pia)) AND ((\"2023/01/01\"[Date - Publication] : \"3000\"[Date - Publication]))'''"
   ]
  },
  {
   "cell_type": "code",
   "execution_count": 3,
   "id": "bbface5e",
   "metadata": {},
   "outputs": [],
   "source": [
    "searchstrings = searchstring.split('AND')[0].split(') OR (')\n",
    "searchstrings = [x.lstrip().rstrip().replace('(','').replace(')','') for x in searchstrings]\n",
    "searchstrings =[x for xx in searchstrings for x in xx.split()]"
   ]
  },
  {
   "cell_type": "code",
   "execution_count": 4,
   "id": "15eabb7b",
   "metadata": {},
   "outputs": [],
   "source": [
    "df = pd.read_csv('csv-AbouJamraR-set(3).csv')\n"
   ]
  },
  {
   "cell_type": "code",
   "execution_count": 5,
   "id": "44e82e42",
   "metadata": {},
   "outputs": [],
   "source": [
    "\n",
    "df=df.dropna(subset=['Authors']).copy()\n",
    "df = df[['Title',\n",
    " 'Authors',\n",
    " 'Journal/Book',\n",
    " 'PMID',\n",
    " 'DOI',\n",
    " 'Citation',\n",
    " 'First Author']]\n",
    "\n",
    "\n",
    "\n",
    "first_hug = []\n",
    "last_hug = []\n",
    "for authors in list(df['Authors']):\n",
    "    if authors==authors:\n",
    "        authors=[x.rstrip(' ').lstrip(' ') for x in authors.split()]\n",
    "        first = authors[0]\n",
    "        last = authors[-2]\n",
    "        if first in searchstrings:\n",
    "            first_hug.append(first)\n",
    "        else:\n",
    "            first_hug.append('')\n",
    "    \n",
    "        if last in searchstrings:\n",
    "            last_hug.append(last)\n",
    "        else:\n",
    "            last_hug.append('')\n",
    "            \n",
    "    else:\n",
    "        first_hug.append('')\n",
    "        \n",
    "        last_hug.append('')"
   ]
  },
  {
   "cell_type": "code",
   "execution_count": 6,
   "id": "36a2f961",
   "metadata": {},
   "outputs": [],
   "source": [
    "df['first authors hug']=first_hug\n",
    "df['last authors hug']=last_hug\n",
    "\n",
    "df['<=25'] = ['x' if len(x.split(','))<=25 else '' for x in list(df['Authors']) ]\n",
    "df['26-50'] = ['x' if len(x.split(','))>25 and  len(x.split(','))<=50 else '' for x in list(df['Authors']) ]\n",
    "df['>50'] = ['x' if len(x.split(','))>50 else '' for x in list(df['Authors']) ]\n",
    "\n",
    "df['Title']=df['Title']+'--'+df['PMID'].astype(str)\n"
   ]
  },
  {
   "cell_type": "code",
   "execution_count": 7,
   "id": "6346d4a3",
   "metadata": {},
   "outputs": [],
   "source": [
    "def writeCol(column_list,col_letter,work_sheet,name):\n",
    "    name=str(name)\n",
    "    bold    = workbook.add_format({'bold': True})\n",
    "    \n",
    "    header = [[bold,x] for x in name]\n",
    "    header =  [x for xx in header for x in xx]\n",
    "    \n",
    "    work_sheet.write_rich_string(f\"{col_letter}{1}\",*header)\n",
    "    \n",
    "    for n,content in enumerate(column_list):\n",
    "        n=n+2\n",
    "        content=str(content)\n",
    "        work_sheet.write_string(f\"{col_letter}{n}\",f\"{content}\")\n",
    "        \n",
    "def writeColBold(column_list,col_letter,work_sheet,s,name):\n",
    "    \n",
    "    cell_format = workbook.add_format()\n",
    "    cell_format.set_text_wrap()\n",
    "    bold    = workbook.add_format({'bold': True})\n",
    "    \n",
    "    header = [[bold,x] for x in name]\n",
    "    header =  [x for xx in header for x in xx]\n",
    "    work_sheet.write_rich_string(f\"{col_letter}{1}\",*header,cell_format)\n",
    "    \n",
    "    \n",
    "    for n,content in enumerate(column_list):\n",
    "        n=n+2\n",
    "        if content!=content:\n",
    "            continue\n",
    "            \n",
    "        content=[x.rstrip(' ').lstrip(' ') for x in content.split()]\n",
    "        \n",
    "        stringl=[]\n",
    "        \n",
    "        \n",
    "        for element in content:\n",
    "            write_element = ' '+ element\n",
    "            if element in s:\n",
    "                \n",
    "                stringl.append(bold)\n",
    "                stringl.append(write_element)\n",
    "            else:\n",
    "                if len(stringl)>1:\n",
    "                    if (',' in write_element or '.' in write_element) and type(stringl[-2])==xlsxwriter.format.Format:\n",
    "                        stringl.append(bold)\n",
    "                stringl.append(write_element)\n",
    "        work_sheet.write_rich_string(f\"{col_letter}{n}\",*stringl,cell_format)\n",
    "        \n",
    "def writeURL(column_list,col_letter,work_sheet,name):\n",
    "    name=str(name)\n",
    "    bold    = workbook.add_format({'bold': True})\n",
    "    \n",
    "    header = [[bold,x] for x in name]\n",
    "    header =  [x for xx in header for x in xx]\n",
    "    \n",
    "    work_sheet.write_rich_string(f\"{col_letter}{1}\",*header)\n",
    "    \n",
    "    \n",
    "    for n,content in enumerate(column_list):\n",
    "        \n",
    "        n=n+2\n",
    "        content=str(content)\n",
    "        title = content.split('--')[0]\n",
    "        pmid = content.split('--')[1]\n",
    "        worksheet.write_url(f\"{col_letter}{n}\", f\"https://pubmed.ncbi.nlm.nih.gov/{pmid}/\", string=title)\n",
    "        #work_sheet.write_string(f\"{col_letter}{n}\",f\"{content}\")"
   ]
  },
  {
   "cell_type": "code",
   "execution_count": 8,
   "id": "d5141cb5",
   "metadata": {},
   "outputs": [],
   "source": [
    "upper = string.ascii_uppercase\n"
   ]
  },
  {
   "cell_type": "code",
   "execution_count": 10,
   "id": "de20c51d",
   "metadata": {},
   "outputs": [],
   "source": [
    "workbook = xlsxwriter.Workbook(\"LOM_2023_draftForJoL_StD.xlsx\")\n",
    "worksheet = workbook.add_worksheet()\n",
    "\n",
    "bold    = workbook.add_format({'bold': True})\n",
    "\n",
    "\n",
    "for n,(c,letter) in enumerate(zip(list(df),list(upper)[:len(df)])):\n",
    "    col = list(df[c])\n",
    "    \n",
    "    if c=='Title':\n",
    "        worksheet.set_column(n, n, 40)\n",
    "        writeURL(col,letter,worksheet,c)\n",
    "    \n",
    "    elif c=='Authors':\n",
    "        worksheet.set_column(n, n, 80)\n",
    "        writeColBold(col,letter,worksheet,searchstrings,c)\n",
    "    else:\n",
    "        \n",
    "        if n>2:\n",
    "            \n",
    "            worksheet.set_column(n, n, 10)\n",
    "        else:\n",
    "            worksheet.set_column(n, n, 30)\n",
    "            \n",
    "        writeCol(col,letter,worksheet,c)\n",
    "        \n",
    "workbook.close()\n"
   ]
  },
  {
   "cell_type": "code",
   "execution_count": null,
   "id": "e6b13522",
   "metadata": {},
   "outputs": [],
   "source": []
  }
 ],
 "metadata": {
  "kernelspec": {
   "display_name": "Python 3 (ipykernel)",
   "language": "python",
   "name": "python3"
  },
  "language_info": {
   "codemirror_mode": {
    "name": "ipython",
    "version": 3
   },
   "file_extension": ".py",
   "mimetype": "text/x-python",
   "name": "python",
   "nbconvert_exporter": "python",
   "pygments_lexer": "ipython3",
   "version": "3.10.13"
  }
 },
 "nbformat": 4,
 "nbformat_minor": 5
}
