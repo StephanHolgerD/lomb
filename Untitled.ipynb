{
 "cells": [
  {
   "cell_type": "code",
   "execution_count": 2,
   "id": "6fb5b911",
   "metadata": {},
   "outputs": [],
   "source": [
    "import xlsxwriter\n",
    "\n",
    "workbook = xlsxwriter.Workbook(\"rich_strings.xlsx\")\n",
    "worksheet = workbook.add_worksheet()\n",
    "\n",
    "worksheet.set_column(\"A:A\", 30)\n",
    "\n",
    "# Set up some formats to use.\n",
    "italic = workbook.add_format({\"italic\": True})\n",
    "red = workbook.add_format({\"color\": \"red\"})\n",
    "blue = workbook.add_format({\"color\": \"blue\"})\n",
    "center = workbook.add_format({\"align\": \"center\"})\n",
    "superscript = workbook.add_format({\"font_script\": 1})\n",
    "\n",
    "# Write some strings with multiple formats.\n",
    "worksheet.write_rich_string(\n",
    "    \"A1\", \"This is \", bold, \"bold\", \" and this is \", italic, \"italic\"\n",
    ")\n",
    "\n",
    "worksheet.write_rich_string(\"A3\", \"This is \", red, \"red\", \" and this is \", blue, \"blue\")\n",
    "\n",
    "worksheet.write_rich_string(\"A5\", \"Some \", bold, \"bold text\", \" centered\", center)\n",
    "\n",
    "worksheet.write_rich_string(\"A7\", italic, \"j = k\", superscript, \"(n-1)\", center)\n",
    "\n",
    "# If you have formats and segments in a list you can add them like this:\n",
    "segments = [\"This is \", bold, \"bold\", \" and this is \", blue, \"blue\"]\n",
    "worksheet.write_rich_string(\"A9\", *segments)\n",
    "\n",
    "workbook.close()\n"
   ]
  },
  {
   "cell_type": "code",
   "execution_count": null,
   "id": "db6f714e",
   "metadata": {},
   "outputs": [],
   "source": [
    "https://xlsxwriter.readthedocs.io/worksheet.html#worksheet-write-rich-string"
   ]
  },
  {
   "cell_type": "code",
   "execution_count": 7,
   "id": "c67ebac4",
   "metadata": {},
   "outputs": [],
   "source": [
    "searchstring = '''\n",
    "((Abou Jamra Rami) OR (Ahmad Natalie) OR (Ahting Simone) OR (Bachmann Joachim) OR (Baerwald Christoph) OR (Bartolomaeus Tobias) OR (Beblo Skadi) OR (Berthold Nicole) OR (Bothe Viktoria) OR (Bundalian Linnaeus) OR (Ciavattini Teresa) OR (Drukewitz Stephan) OR (Faust Helene) OR (Halfmeyer Insa) OR (Heinze Nora) OR (Hentschel Julia) OR (Herbst Charlotte) OR (Herrmann Vera-Maria) OR (Heuft Lara) OR (Jauss Robin-Tobias) OR (Jamra Rami) OR (Junge Tabea) OR (Klöckner Chiara) OR (Körner Marek) OR (Krey Ilona) OR (Krohn Knut) OR (Le Duc Gabriela-Diana) OR (Lemke Johannes) OR (Moch Johanna) OR (Müller-Nedebock Amica) OR (Neuser Sonja) OR (Oppermann Henry) OR (Pilgram Laura-Marie) OR (Platzer Konrad) OR (Popp Bernt) OR (Popp Denny) OR (Radtke Maximilian) OR (Rahimi Meer Jacob) OR (Rosenhahn Erik) OR (Rößler Franziska) OR (Roessler Franziska) OR (Schließke Sophia) OR (Schnabel Franziska) OR (Schubert Susanna) OR (Schumann Isabell) OR (Strehlow Vincent) OR (Teichmann Anne-Christin) OR (Viehweger Adrian) OR (von Wintzingerode Lydia) OR (Weber Ferdinand) OR (Wegler Meret) OR (Wiedenhoeft John) OR (Büttner Benjamin) OR (Heine Constanze) OR (Klau Julia) OR (Kutzera Joachim) OR (Lieberwirth Johann) OR (Mertens Mareike) OR (Plitzko Lydia) OR (Schmederer Zelia) OR (Zacher Pia)) AND ((\"2023/01/01\"[Date - Publication] : \"3000\"[Date - Publication]))'''"
   ]
  },
  {
   "cell_type": "code",
   "execution_count": 15,
   "id": "bbface5e",
   "metadata": {},
   "outputs": [],
   "source": [
    "searchstrings = searchstring.split('AND')[0].split(') OR (')\n",
    "searchstrings = [x.lstrip().rstrip().replace('(','').replace(')','') for x in searchstrings]"
   ]
  },
  {
   "cell_type": "code",
   "execution_count": 3,
   "id": "f1d046ab",
   "metadata": {},
   "outputs": [],
   "source": [
    "import pandas as pd"
   ]
  },
  {
   "cell_type": "code",
   "execution_count": 5,
   "id": "44e82e42",
   "metadata": {},
   "outputs": [],
   "source": [
    "\n",
    "df = pd.read_csv('csv-AbouJamraR-set(1).csv')"
   ]
  },
  {
   "cell_type": "code",
   "execution_count": 18,
   "id": "deba1738",
   "metadata": {},
   "outputs": [],
   "source": [
    "workbook = xlsxwriter.Workbook(\"rich_strings.xlsx\")\n",
    "worksheet = workbook.add_worksheet()\n",
    "\n",
    "\n",
    "#worksheet.set_column(\"A:D\", 500)\n",
    "bold = workbook.add_format({\"bold\": True})\n",
    "worksheet.write_rich_string(\"A5\", \"Some \", bold, \"bold text\", \" centered\", center)\n",
    "workbook.close()\n"
   ]
  },
  {
   "cell_type": "code",
   "execution_count": 80,
   "id": "6346d4a3",
   "metadata": {},
   "outputs": [],
   "source": [
    "def writeCol(l,col,work_sheet):\n",
    "    for n,_ in enumerate(l):\n",
    "        _=str(_)\n",
    "        print(_)\n",
    "        work_sheet.write_rich_string(f\"{col}{n}\",bold, f\"{_}\")\n",
    "        \n",
    "        "
   ]
  },
  {
   "cell_type": "code",
   "execution_count": 25,
   "id": "d5141cb5",
   "metadata": {},
   "outputs": [],
   "source": [
    "import string\n",
    "upper = string.ascii_uppercase\n"
   ]
  },
  {
   "cell_type": "code",
   "execution_count": 31,
   "id": "c38669ff",
   "metadata": {},
   "outputs": [
    {
     "ename": "ValueError",
     "evalue": "empty separator",
     "output_type": "error",
     "traceback": [
      "\u001b[0;31m---------------------------------------------------------------------------\u001b[0m",
      "\u001b[0;31mValueError\u001b[0m                                Traceback (most recent call last)",
      "Cell \u001b[0;32mIn[31], line 1\u001b[0m\n\u001b[0;32m----> 1\u001b[0m \u001b[43mupper\u001b[49m\u001b[38;5;241;43m.\u001b[39;49m\u001b[43msplit\u001b[49m\u001b[43m(\u001b[49m\u001b[38;5;124;43m'\u001b[39;49m\u001b[38;5;124;43m'\u001b[39;49m\u001b[43m)\u001b[49m\n",
      "\u001b[0;31mValueError\u001b[0m: empty separator"
     ]
    }
   ],
   "source": [
    "upper.split('')"
   ]
  },
  {
   "cell_type": "code",
   "execution_count": 81,
   "id": "de20c51d",
   "metadata": {},
   "outputs": [
    {
     "name": "stdout",
     "output_type": "stream",
     "text": [
      "36482748\n",
      "36976648\n",
      "36221165\n",
      "36890234\n",
      "37165955\n",
      "36757831\n",
      "36322151\n",
      "36331550\n",
      "37062836\n",
      "36315648\n",
      "36726590\n",
      "37222100\n",
      "36528028\n",
      "37721148\n",
      "37653029\n",
      "36036558\n",
      "37389635\n",
      "36426740\n",
      "36399134\n",
      "37104749\n",
      "37165752\n",
      "37407264\n",
      "36564538\n",
      "36189577\n",
      "37902037\n",
      "37750041\n",
      "36908399\n",
      "37847816\n",
      "36974069\n",
      "37125634\n",
      "37445334\n",
      "37551667\n",
      "37921875\n",
      "37503210\n",
      "37092538\n",
      "37369202\n",
      "37606373\n",
      "37723282\n",
      "37644171\n",
      "36943452\n",
      "36949817\n",
      "37166351\n",
      "37474567\n",
      "37568590\n",
      "37188825\n",
      "37460657\n",
      "37443150\n",
      "36987741\n",
      "37099010\n",
      "37734378\n",
      "37236033\n",
      "37647852\n",
      "37863628\n",
      "37296278\n",
      "36593963\n",
      "37686744\n",
      "36882394\n",
      "37068915\n",
      "37734130\n",
      "36776892\n",
      "37006128\n",
      "36805804\n",
      "37568754\n",
      "37544411\n",
      "36063073\n",
      "37195288\n",
      "36769739\n",
      "37926713\n",
      "36838385\n",
      "37467750\n",
      "37918433\n",
      "36871034\n",
      "36379434\n",
      "37859581\n",
      "37577448\n",
      "37086569\n",
      "37207645\n",
      "36835370\n",
      "37867076\n",
      "36789265\n",
      "36692537\n",
      "36745127\n",
      "36753417\n",
      "36576126\n",
      "36899390\n",
      "36868207\n",
      "37225742\n",
      "36322149\n",
      "37429829\n",
      "37369021\n",
      "37088080\n",
      "37275212\n",
      "37641943\n",
      "37096215\n",
      "37040780\n",
      "37049505\n",
      "37443844\n",
      "36979907\n",
      "36708422\n",
      "35399117\n",
      "37920977\n"
     ]
    }
   ],
   "source": [
    "workbook = xlsxwriter.Workbook(\"test.xlsx\")\n",
    "worksheet = workbook.add_worksheet()\n",
    "\n",
    "\n",
    "#worksheet.set_column(\"A:D\", 500)\n",
    "#bold = workbook.add_format({\"bold\": True})\n",
    "\n",
    "for c,letter in zip(list(df)[:1],list(upper)[:len(df)]):\n",
    "    col = list(df[c])\n",
    "    writeCol(col,letter,worksheet)\n",
    "        \n",
    "    \n",
    "workbook.close()\n"
   ]
  },
  {
   "cell_type": "code",
   "execution_count": null,
   "id": "656f38c3",
   "metadata": {},
   "outputs": [],
   "source": []
  }
 ],
 "metadata": {
  "kernelspec": {
   "display_name": "Python 3 (ipykernel)",
   "language": "python",
   "name": "python3"
  },
  "language_info": {
   "codemirror_mode": {
    "name": "ipython",
    "version": 3
   },
   "file_extension": ".py",
   "mimetype": "text/x-python",
   "name": "python",
   "nbconvert_exporter": "python",
   "pygments_lexer": "ipython3",
   "version": "3.10.13"
  }
 },
 "nbformat": 4,
 "nbformat_minor": 5
}
